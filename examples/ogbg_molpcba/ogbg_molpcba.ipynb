{
  "nbformat": 4,
  "nbformat_minor": 0,
  "metadata": {
    "colab": {
      "name": "ogbg_molpcba.ipynb",
      "provenance": [],
      "collapsed_sections": []
    },
    "kernelspec": {
      "name": "python3",
      "display_name": "Python 3"
    },
    "language_info": {
      "name": "python"
    }
  },
  "cells": [
    {
      "cell_type": "markdown",
      "metadata": {
        "id": "81wUkzl5gCUr"
      },
      "source": [
        "# Flax ogbg-molpcba Example\n",
        "\n",
        "<a href=\"https://colab.research.google.com/github/google/flax/blob/main/examples/ogbg_molcpba/ogbg_molcpba.ipynb\" ><img src=\"https://colab.research.google.com/assets/colab-badge.svg\" alt=\"Open In Colab\"/></a>\n",
        "\n",
        "Demonstration notebook for\n",
        "https://github.com/google/flax/tree/main/examples/ogbg_molcpba."
      ]
    },
    {
      "cell_type": "markdown",
      "metadata": {
        "id": "hfbxr1U9eciL"
      },
      "source": [
        "## Setup"
      ]
    },
    {
      "cell_type": "code",
      "metadata": {
        "cellView": "form",
        "id": "cKmRTXhHdm_U"
      },
      "source": [
        "#@title pip installs\n",
        "# Install clu, ml-collections, latest Flax version, and tensorflow_datasets.\n",
        "!pip install -U -q clu ml-collections git+https://github.com/google/flax tensorflow_datasets"
      ],
      "execution_count": 11,
      "outputs": []
    },
    {
      "cell_type": "code",
      "metadata": {
        "cellView": "form",
        "id": "bCKbiylLgURG"
      },
      "source": [
        "#@title Fetch example code\n",
        "# (If you run this code in Jupyter[lab], then you're already in the\n",
        "#  example directory and nothing needs to be done.)\n",
        "\n",
        "#@markdown **Fetch newest Flax version and copy of example code.**\n",
        "#@markdown\n",
        "#@markdown **If you select no** below, then the files will be stored on the\n",
        "#@markdown *ephemeral* Colab VM. **After some time of inactivity, this VM will\n",
        "#@markdown be restarted and any changes will be lost**.\n",
        "#@markdown\n",
        "#@markdown **If you select yes** below, then you will be asked for your\n",
        "#@markdown credentials to mount your personal Google Drive. In this case, all\n",
        "#@markdown changes you make will *persist*. Even if you re-run this\n",
        "#@markdown Colab notebook later on, the files will still exist. You can\n",
        "#@markdown remove directories inside your Drive's `flax/` root if you want to\n",
        "#@markdown manually revert these files.\n",
        "\n",
        "example_directory = 'examples/ogbg_molpcba'\n",
        "editor_relpaths = ('configs/default.py', 'input_pipeline.py', 'models.py', 'train.py')\n",
        "repo, branch = 'https://github.com/google/flax', 'main'\n",
        "\n",
        "if 'google.colab' in str(get_ipython()):\n",
        "  import os\n",
        "  os.chdir('/content')\n",
        "  # Download Flax repo from Github.\n",
        "  if not os.path.isdir('flaxrepo'):\n",
        "    !git clone --depth=1 -b $branch $repo flaxrepo\n",
        "  # Copy example files & change directory.\n",
        "  mount_gdrive = 'no' #@param ['yes', 'no']\n",
        "  if mount_gdrive == 'yes':\n",
        "    DISCLAIMER = 'Note : Editing in your Google Drive, changes will persist.'\n",
        "    from google.colab import drive\n",
        "    drive.mount('/content/gdrive')\n",
        "    example_root_path = f'/content/gdrive/My Drive/flax/{example_directory}'\n",
        "  else:\n",
        "    DISCLAIMER = 'WARNING : Editing in VM - changes lost after reboot!!'\n",
        "    example_root_path = f'/content/{example_directory}'\n",
        "    from IPython import display\n",
        "    display.display(display.HTML(\n",
        "        f'<h1 style=\"color:red;\" class=\"blink\">{DISCLAIMER}</h1>'))\n",
        "  if not os.path.isdir(example_root_path):\n",
        "    os.makedirs(example_root_path)\n",
        "    !cp -r flaxrepo/$example_directory/* \"$example_root_path\"\n",
        "  os.chdir(example_root_path)\n",
        "  from google.colab import files\n",
        "  for relpath in editor_relpaths:\n",
        "    s = open(f'{example_root_path}/{relpath}').read()\n",
        "    open(f'{example_root_path}/{relpath}', 'w').write(\n",
        "        f'## {DISCLAIMER}\\n' + '#' * (len(DISCLAIMER) + 3) + '\\n\\n' + s)\n",
        "    files.view(f'{example_root_path}/{relpath}')"
      ],
      "execution_count": null,
      "outputs": []
    },
    {
      "cell_type": "code",
      "metadata": {
        "colab": {
          "base_uri": "https://localhost:8080/"
        },
        "cellView": "form",
        "id": "ifRtigyGgZYk",
        "outputId": "6df96b72-0da2-4a90-fd1e-cc50981efc03"
      },
      "source": [
        "#@title Display current working directory\n",
        "# Note: In Colab, running the above cell changes the working directory.\n",
        "!pwd"
      ],
      "execution_count": 12,
      "outputs": [
        {
          "output_type": "stream",
          "text": [
            "/content\n"
          ],
          "name": "stdout"
        }
      ]
    },
    {
      "cell_type": "markdown",
      "metadata": {
        "id": "hvyohKMtelLG"
      },
      "source": [
        "## Imports"
      ]
    },
    {
      "cell_type": "code",
      "metadata": {
        "cellView": "form",
        "id": "bh18UXRVerEz"
      },
      "source": [
        "#@title Base imports\n",
        "from absl import logging\n",
        "import flax\n",
        "import jax.numpy as jnp\n",
        "from matplotlib import pyplot as plt\n",
        "import numpy as np\n",
        "import tensorflow_datasets as tfds\n",
        "import pprint\n",
        "logging.set_verbosity(logging.INFO)"
      ],
      "execution_count": 9,
      "outputs": []
    },
    {
      "cell_type": "code",
      "metadata": {
        "cellView": "form",
        "id": "r-T0M1okfkrA"
      },
      "source": [
        "#@title Auto-reload setup\n",
        "# Local imports from current directory - auto reload.\n",
        "# Any changes you make to train.py and other modules below will appear automatically.\n",
        "%load_ext autoreload\n",
        "%autoreload 2\n",
        "import train\n",
        "import input_pipeline\n",
        "from configs import default as config_lib\n",
        "config = config_lib.get_config()"
      ],
      "execution_count": null,
      "outputs": []
    },
    {
      "cell_type": "markdown",
      "metadata": {
        "id": "NFQxAbTWerTQ"
      },
      "source": [
        "## Dataset"
      ]
    },
    {
      "cell_type": "markdown",
      "metadata": {
        "id": "K6Soh8gkYKQB"
      },
      "source": [
        "TensorFlow Datasets supports customizable visualization of the ogbg_molpcba dataset."
      ]
    },
    {
      "cell_type": "code",
      "metadata": {
        "cellView": "form",
        "id": "0ohDGSB_ZC0q"
      },
      "source": [
        "#@title Visualization helpers\n",
        "# Dictionaries used to map nodes and edges to colors.\n",
        "atomic_numbers_to_elements = {\n",
        "    6: 'C',\n",
        "    7: 'N',\n",
        "    8: 'O',\n",
        "    9: 'F',\n",
        "    14: 'Si',\n",
        "    15: 'P',\n",
        "    16: 'S',\n",
        "    17: 'Cl',\n",
        "    35: 'Br,'\n",
        "}\n",
        "elements_to_colors = {\n",
        "    element: f'C{index}'\n",
        "    for index, element in enumerate(atomic_numbers_to_elements.values())\n",
        "}\n",
        "bond_types_to_colors = {num: f'C{num}' for num in range(4)}\n",
        "\n",
        "# Node colors are atomic numbers.\n",
        "def node_color_fn(graph):\n",
        "  atomic_numbers = 1 + graph['node_feat'][:, 0].numpy()\n",
        "  return {\n",
        "      index: elements_to_colors[atomic_numbers_to_elements[atomic_number]]\n",
        "      for index, atomic_number in enumerate(atomic_numbers)\n",
        "  }\n",
        "\n",
        "# Node labels are element names.\n",
        "def node_label_fn(graph):\n",
        "  atomic_numbers = 1 + graph['node_feat'][:, 0].numpy()\n",
        "  return {\n",
        "      index: atomic_numbers_to_elements[atomic_number]\n",
        "      for index, atomic_number in enumerate(atomic_numbers)\n",
        "  }\n",
        "\n",
        "# Edge colors are bond types.\n",
        "def edge_color_fn(graph):\n",
        "  bonds = graph['edge_index'].numpy()\n",
        "  bond_types = graph['edge_feat'][:, 0].numpy()\n",
        "  return {\n",
        "      tuple(bond): bond_types_to_colors[bond_type]\n",
        "      for bond, bond_type in zip(bonds, bond_types)\n",
        "  }"
      ],
      "execution_count": 6,
      "outputs": []
    },
    {
      "cell_type": "code",
      "metadata": {
        "cellView": "form",
        "id": "U5jNKcD3YFsO"
      },
      "source": [
        "#@title Visualize examples\n",
        "ds, ds_info = tfds.load('ogbg_molpcba', with_info=True)\n",
        "tfds.visualization.show_examples(ds, ds_info,\n",
        "                                 node_color_fn=node_color_fn,\n",
        "                                 node_label_fn=node_label_fn,\n",
        "                                 edge_color_fn=edge_color_fn)"
      ],
      "execution_count": null,
      "outputs": []
    },
    {
      "cell_type": "markdown",
      "metadata": {
        "id": "CZJz7xoKevYn"
      },
      "source": [
        "## Training"
      ]
    },
    {
      "cell_type": "code",
      "metadata": {
        "cellView": "form",
        "id": "Bha8sF3ne0mg"
      },
      "source": [
        "#@title Start TensorBoard\n",
        "# Get a live update during training - use the \"refresh\" button!\n",
        "# (In Jupyter[lab] start \"tensorboard\" in the local directory instead.)\n",
        "if 'google.colab' in str(get_ipython()):\n",
        "  %load_ext tensorboard\n",
        "  %tensorboard --logdir=."
      ],
      "execution_count": null,
      "outputs": []
    },
    {
      "cell_type": "code",
      "metadata": {
        "cellView": "form",
        "id": "iVA3nVAth5Wh"
      },
      "source": [
        "#@title Training loop\n",
        "# We don't use TPUs in this Colab because we do not distribute our\n",
        "# training using pmap() - if you're looking for an example using TPUs\n",
        "# checkout the below Colab notebook:\n",
        "# https://colab.research.google.com/github/google/flax/blob/main/examples/imagenet/imagenet.ipynb\n",
        "\n",
        "config.num_training_steps = 10000\n",
        "state = train.train_and_evaluate(config, workdir=f'./models')"
      ],
      "execution_count": null,
      "outputs": []
    },
    {
      "cell_type": "code",
      "metadata": {
        "cellView": "form",
        "id": "L9BT3cGoiMNo"
      },
      "source": [
        "#@title Upload to TensorBoard.dev\n",
        "if 'google.colab' in str(get_ipython()):\n",
        "  #@markdown You can upload the training results directly to [TensorBoard.dev](https://tensorboard.dev).\n",
        "  #@markdown\n",
        "  #@markdown Note that everbody with the link will be able to see the data.\n",
        "  upload_data = 'no' #@param ['yes', 'no']\n",
        "  if upload_data == 'yes':\n",
        "    !tensorboard dev upload --one_shot --logdir ./models --name 'Flax examples/ogbg_molpcba'"
      ],
      "execution_count": null,
      "outputs": []
    },
    {
      "cell_type": "markdown",
      "metadata": {
        "id": "541fzDOQeyA0"
      },
      "source": [
        "## Inference"
      ]
    },
    {
      "cell_type": "code",
      "metadata": {
        "cellView": "form",
        "id": "HMxkT1Lge1h5"
      },
      "source": [
        "#@title Create evaluation model\n",
        "eval_net = train.create_model(config, deterministic=True)\n",
        "eval_state = state.replace(apply_fn=eval_net.apply)"
      ],
      "execution_count": null,
      "outputs": []
    },
    {
      "cell_type": "code",
      "metadata": {
        "cellView": "form",
        "id": "NyDT6Ayp_s-G"
      },
      "source": [
        "#@title Compute metrics\n",
        "# Compute accuracy and mean average precision on validation and test sets.\n",
        "eval_metrics = train.evaluate_model(eval_state, datasets, splits=['validation', 'test'])\n",
        "pprint.pprint(eval_metrics)"
      ],
      "execution_count": null,
      "outputs": []
    }
  ]
}